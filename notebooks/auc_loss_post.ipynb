{
 "cells": [
  {
   "cell_type": "markdown",
   "id": "83cb729a",
   "metadata": {},
   "source": [
    "# AUC as Loss: directly fitting to optimize ROC AUC"
   ]
  },
  {
   "cell_type": "markdown",
   "id": "b8d87a2a",
   "metadata": {},
   "source": [
    "A common application of binary classification models is *ranking*, more than *classification* itself. The difference between the two is subtle:\n",
    "\n",
    "* In classification, you want to say how likely a point is to belong to class 1 or class 0;\n",
    "* In ranking, you care whether point A, who is in class 1, is more likely than another point B, in class 0, to be classified as being in the correct class.\n",
    "\n",
    "[Learning to rank](https://en.wikipedia.org/wiki/Learning_to_rank) is a whole recent area in machine learning. Here, we focus on the binary case, which is our main concern in domains such as credit and insurance, where an individual will be compared against peers for credit or better insurance policies.\n",
    "\n"
   ]
  },
  {
   "cell_type": "markdown",
   "id": "47dd5b06",
   "metadata": {},
   "source": [
    "In the binary case, the [ROC AUC](https://en.wikipedia.org/wiki/Receiver_operating_characteristic) is a standard metric which I have previously discussed (see [here](https://takeshimg92.github.io/posts/auc-variance.html) and [here](https://takeshimg92.github.io/posts/cost_based_auc.html)). A quick review: in the supervised learning setting, where we have jointly distributed variables $(X,Y)$ (with $X$ taking values in some inner product space $\\mathcal X$, and $Y$ being either 0 or 1), and a trained classifier $f: \\mathcal X \\to [0,1]$, the ROC AUC measures how likely $p$ is to give a higher score to a point in class 1 than to a point in class 0:\n",
    "\n",
    "$$\\mathrm{AUC} = \\mathbb P(p(X) \\geq p(X') | Y=1, Y'=0)$$\n",
    "\n"
   ]
  },
  {
   "cell_type": "markdown",
   "id": "00ebd1f8",
   "metadata": {},
   "source": [
    "The model $p$ is usually parametric, $p = p_\\theta$, and:\n",
    "* Trained to maximize the log-likelihood $\\ell(\\theta)$, which usually amounts to minimizing the binary cross-entropy loss;\n",
    "* Fine-tuned (via hyperparameter optimization) to maximize ROC AUC; ROC AUC is also used to compare different models and choose the winner."
   ]
  },
  {
   "cell_type": "markdown",
   "id": "27c48869",
   "metadata": {},
   "source": [
    "I was recently wondering: **why don't we just maximize for ROC AUC from the beginning?** Since this is what we care about in the end, why optimize for another loss?"
   ]
  },
  {
   "cell_type": "markdown",
   "id": "bd3a0e63",
   "metadata": {},
   "source": [
    "### Must-know's for today"
   ]
  },
  {
   "cell_type": "markdown",
   "id": "39daf6bd",
   "metadata": {},
   "source": [
    "Everything in ROC AUC analysis comes from the fact that we can write the equation above as\n",
    "\n",
    "$$\\mathrm{AUC} = \\mathbf E \\left[ 1_{p(X) \\geq p(X')} | Y=1, Y'=0\\right]\\qquad (1)$$"
   ]
  },
  {
   "cell_type": "markdown",
   "id": "19d5f9cb",
   "metadata": {},
   "source": [
    "where $1_A$ is the identity function which takes the value 1 over events in which $A$ is true and zero otherwise. Numerically, this is often approximated as the Wilcoxon-Mann-Whitney statistic: given a set of observations $\\{(x_i, y_i)\\}_{i=1}^n$, out of which $n_1$ are in class 1 and $n_0 = n-n_1$ are in class 0, it is given by\n",
    "\n",
    "$$\\widehat{\\mathrm{AUC}} = \\frac{1}{n_0 n_1} \\sum_{i: y_i = 1} \\sum_{j: y_j=0} 1_{p(x_i) \\geq p(x_j)} \\qquad (2)$$"
   ]
  },
  {
   "cell_type": "markdown",
   "id": "3756e2ee",
   "metadata": {},
   "source": [
    "A final point is that Eq. (2) is *expensive*: it is of order $O(n_0 n_1) = O(n^2)$. For a large, balanced dataset this can become infeasible.\n",
    "\n",
    "I often replace the double sum for a Monte-Carlo sample: fixing a number $N \\gg 1$, formally substitute\n",
    "\n",
    "$$\\frac{1}{n_0 n_1} \\sum_{i: y_i=1} \\sum_{j: y_j=0} \\longrightarrow \\frac{1}{N} \\sum_{(i, j)}$$\n"
   ]
  },
  {
   "cell_type": "markdown",
   "id": "095a6184",
   "metadata": {},
   "source": [
    "where the sum on the right hand side samples $N$ pairs $(i, j)$ from the set $\\{i: y_i=1\\} \\times \\{j: y_j=0\\}$."
   ]
  },
  {
   "cell_type": "markdown",
   "id": "6d008984",
   "metadata": {},
   "source": [
    "### Surrogates losses"
   ]
  },
  {
   "cell_type": "markdown",
   "id": "e3edbef1",
   "metadata": {},
   "source": [
    "[Cortes and Mohri (2003)](https://cs.nyu.edu/~mohri/pub/auc.pdf) have discussed how the **RankBoost loss** is a **surrogate** loss for ROC AUC - i.e. it is a loss which is optimized when the ROC AUC is optimized. It is defined theoretically as\n",
    "\n",
    "$$\\mathbf E\\left[\\exp(-\\alpha(p(X)-p(X')))|Y=1, Y'=0\\right]$$\n",
    "\n",
    "where $\\alpha > 0$ is a hyperparameter which exponentially penalizes scores which are inverted between the two classes. This expression can be approximated numerically by setting up a double sum as above:\n",
    "\n",
    "$$\\frac{1}{n_0 n_1} \\sum_{i: y_i = 1} \\sum_{j: y_j=0} \\exp(-\\alpha(p(x_i)-p(x_j))).\\qquad (3)$$"
   ]
  },
  {
   "cell_type": "markdown",
   "id": "e2aa27c7",
   "metadata": {},
   "source": [
    "I've used RankBoost before by analytically computing its Jacobian and Hessian and using it as a custom loss in LightGBM - it works just fine! Notice that LightGBM only accepts *total* losses which can be written as\n",
    "\n",
    "$$L \\propto \\sum_{i=1}^n \\ell(x_i, y_i);$$"
   ]
  },
  {
   "cell_type": "markdown",
   "id": "44d09e0f",
   "metadata": {},
   "source": [
    "you can do that by writing"
   ]
  },
  {
   "cell_type": "markdown",
   "id": "7406257a",
   "metadata": {},
   "source": [
    "$$\\ell(x_i, y_i) =  \\sum_{j=1}^n \\left[ y_i (1-y_j ) e^{-\\alpha(p(x_i) - p(x_j))} + (1-y_i) y_j e^{+\\alpha(p(x_i) - p(x_j))} \\right]$$"
   ]
  },
  {
   "cell_type": "markdown",
   "id": "7dc8e2ca",
   "metadata": {},
   "source": [
    "# Directly optimizing the ROC AUC"
   ]
  },
  {
   "cell_type": "markdown",
   "id": "11ed0c4c",
   "metadata": {},
   "source": [
    "I wanted to explore a bit further. Can I write a *differentiable* loss function which is the ROC AUC?"
   ]
  },
  {
   "cell_type": "markdown",
   "id": "5b61cf63",
   "metadata": {},
   "source": [
    "Take Eq. (1), explicitly writing the dependence on parameters $\\theta$:\n",
    "\n",
    "$$\\mathrm{AUC} = \\mathbf E \\left[ 1_{p_\\theta(X) \\geq p_\\theta(X')} | Y=1, Y'=0\\right]$$"
   ]
  },
  {
   "cell_type": "markdown",
   "id": "fd139596",
   "metadata": {},
   "source": [
    "My goal was: **use gradient ascent to iterate** $\\theta$ **in order to maximize AUC**. That requires is to solve an interesting problem: \n",
    "\n",
    "$$\\boxed{\\mbox{What is the gradient of AUC?}}$$"
   ]
  },
  {
   "cell_type": "markdown",
   "id": "5bea1a95",
   "metadata": {},
   "source": [
    "In what follows, we denote by the gradient operator in $\\theta$ space as\n",
    "\n",
    "$$\\frac{\\partial}{\\partial \\theta}$$\n",
    "\n",
    "(leaving $\\nabla$ for gradients in feature space, $\\nabla = \\partial/\\partial x$)."
   ]
  },
  {
   "cell_type": "markdown",
   "id": "0ed1f3da",
   "metadata": {},
   "source": [
    "We want to find the gradient of AUC so that we can run gradient ascend:\n",
    "\n",
    "$$\\theta_{n+1} = \\theta_n + \\eta \\left. \\frac{\\partial}{\\partial \\theta} \\mathrm{AUC}\\right|_{\\theta=\\theta_n}$$\n",
    "\n",
    "where $\\eta$ is a learning rate."
   ]
  },
  {
   "cell_type": "markdown",
   "id": "53005dd2",
   "metadata": {},
   "source": [
    "But we have an issue here. Even if, for fixed $x$, the map $\\theta \\mapsto p_\\theta(x)$ is smooth, it is certainly true that\n",
    "\n",
    "$$\\theta \\mapsto 1_{p_\\theta(x) \\geq p_\\theta(x')}$$\n",
    "\n",
    "is not differentiable, and thus we cannot calculate the derivative directly."
   ]
  },
  {
   "cell_type": "markdown",
   "id": "8b47fd88",
   "metadata": {},
   "source": [
    "We have two options:\n",
    "\n",
    "* Option 1: calculate a derivative exactly, in the [distribution](https://en.wikipedia.org/wiki/Distribution_(mathematics)) sense;\n",
    "\n",
    "* Option 2: find a smooth approximant to $1_A$ itself, which can be differentiated directly."
   ]
  },
  {
   "cell_type": "markdown",
   "id": "d0cbb253",
   "metadata": {},
   "source": [
    "We show how to deal with Option 1 in the Appendix - the conclusion is that it is equivalent to Option 2 given the correct choice of regularizer. Here, we show how Option 2 can lead us to a nice computational method to calculate gradients for the ROC AUC."
   ]
  },
  {
   "cell_type": "markdown",
   "id": "dea0c38f",
   "metadata": {},
   "source": [
    "First, we import the necessary libraries and create a toy dataset:"
   ]
  },
  {
   "cell_type": "code",
   "execution_count": 1,
   "id": "f846bf6c",
   "metadata": {},
   "outputs": [],
   "source": [
    "import numpy as np\n",
    "import pandas as pd\n",
    "import matplotlib.pyplot as plt\n",
    "\n",
    "from sklearn.metrics import roc_auc_score\n",
    "from sklearn.datasets import make_classification\n",
    "from sklearn.model_selection import train_test_split\n",
    "from sklearn.linear_model import LogisticRegression\n",
    "\n",
    "from numba import jit\n",
    "from tqdm.auto import tqdm\n",
    "\n",
    "# for hi res pictures\n",
    "plt.rcParams['figure.dpi'] = 140\n",
    "plt.rcParams['figure.figsize'] = [6.0, 3.0]"
   ]
  },
  {
   "cell_type": "code",
   "execution_count": 2,
   "id": "f0af489d",
   "metadata": {},
   "outputs": [],
   "source": [
    "X, y = make_classification(n_samples=2000, n_informative=9, \n",
    "                           n_redundant=0, n_repeated=0, \n",
    "                           random_state=2)\n",
    "\n",
    "X_train, X_test, y_train, y_test = train_test_split(X, y,\n",
    "                                                    test_size=0.4, \n",
    "                                                    random_state=4)"
   ]
  },
  {
   "cell_type": "markdown",
   "id": "022454c8",
   "metadata": {},
   "source": [
    "Let us also train a **baseline logistic regression** model, which we will use to compare our metrics in what follows:"
   ]
  },
  {
   "cell_type": "code",
   "execution_count": 3,
   "id": "7f2364f7",
   "metadata": {},
   "outputs": [],
   "source": [
    "base = LogisticRegression().fit(X_train, y_train)"
   ]
  },
  {
   "cell_type": "code",
   "execution_count": 4,
   "id": "7e4b1e19",
   "metadata": {},
   "outputs": [
    {
     "name": "stdout",
     "output_type": "stream",
     "text": [
      "Train AUC: 0.899\n",
      "Train AUC: 0.895\n"
     ]
    }
   ],
   "source": [
    "print(\"Train AUC: {0:.3f}\".format(roc_auc_score(y_train, base.predict_proba(X_train)[:,1])))\n",
    "print(\"Train AUC: {0:.3f}\".format(roc_auc_score(y_test, base.predict_proba(X_test)[:,1])))"
   ]
  },
  {
   "cell_type": "markdown",
   "id": "257c6840",
   "metadata": {},
   "source": [
    "### Regularized kernel ROC AUC"
   ]
  },
  {
   "cell_type": "markdown",
   "id": "9acafea1",
   "metadata": {},
   "source": [
    "Essentially, the infractor is the Heaviside function $1_{x\\geq 0}$. This is a shorthand for the function\n",
    "\n",
    "$$\\begin{cases}\n",
    "1 & \\mbox{if} & x \\geq 0\\\\\n",
    "0 & \\mbox{if} & x < 0\n",
    "\\end{cases}.$$"
   ]
  },
  {
   "cell_type": "markdown",
   "id": "39bb7e06",
   "metadata": {},
   "source": [
    "Our proposal is to substitute this function by an infinitely smooth one. Let"
   ]
  },
  {
   "cell_type": "markdown",
   "id": "fac96b09",
   "metadata": {},
   "source": [
    "$$\\sigma_\\epsilon(x) \\equiv \\sigma\\left(\\frac{x}{\\varepsilon}\\right), \\quad \\sigma(x) = \\frac{1}{1+e^{-x}}$$\n"
   ]
  },
  {
   "cell_type": "markdown",
   "id": "644c1b11",
   "metadata": {},
   "source": [
    "be a sigmoid function with a parameter $\\varepsilon$."
   ]
  },
  {
   "cell_type": "code",
   "execution_count": 5,
   "id": "b4309652",
   "metadata": {},
   "outputs": [
    {
     "data": {
      "image/png": "[encoded data removed]",
      "text/plain": [
       "<Figure size 840x420 with 1 Axes>"
      ]
     },
     "metadata": {
      "needs_background": "light"
     },
     "output_type": "display_data"
    }
   ],
   "source": [
    "@jit(nopython=True)\n",
    "def sigma_eps(x, eps=0.01):\n",
    "    return 1.0/(1.0 + np.exp(-x/eps))\n",
    "\n",
    "# plotting to compare with Heaviside function\n",
    "x = np.linspace(-4,4, 400)\n",
    "for eps in [1, 0.1, 0.01]:\n",
    "    plt.plot(x, sigma_eps(x, eps), label=f'eps={eps}')\n",
    "plt.plot(x, np.heaviside(x, 1), label='Heaviside', color='black', linestyle='--')\n",
    "plt.legend()\n",
    "plt.show()"
   ]
  },
  {
   "cell_type": "markdown",
   "id": "896df0f5",
   "metadata": {},
   "source": [
    "See how $\\varepsilon=0.01$ or lower already gives a fantastic approximation to the Heaviside function."
   ]
  },
  {
   "cell_type": "markdown",
   "id": "fc2bf52a",
   "metadata": {},
   "source": [
    "Our approach will then be to formally substitute $1_{x\\geq 0}$ by $\\sigma_\\varepsilon(x)$. Define a **regularized kernel ROC AUC** as "
   ]
  },
  {
   "cell_type": "markdown",
   "id": "d165a6a2",
   "metadata": {},
   "source": [
    "$$\\mathrm{rAUC} = \\mathbf E[\\sigma_\\varepsilon(p_\\theta(X) - p_\\theta(X')) | Y=1, Y'=0].\\qquad (4)$$"
   ]
  },
  {
   "cell_type": "markdown",
   "id": "07bea9f2",
   "metadata": {},
   "source": [
    "Below, we show how this quantity approximates the actual ROC AUC, with the error becoming smaller as $\\varepsilon$ decreases:"
   ]
  },
  {
   "cell_type": "markdown",
   "id": "653a148a",
   "metadata": {},
   "source": [
    "> Since the Wilcoxon-Mann-Whitney statistic is sometimes called the U-statistic, we name the function to calculate rAUC as `reg_u_statistic`:"
   ]
  },
  {
   "cell_type": "code",
   "execution_count": 20,
   "id": "c091e754",
   "metadata": {},
   "outputs": [],
   "source": [
    "def reg_u_statistic(y_true, y_probs, eps=0.01):\n",
    "    p = y_probs[y_true==1]\n",
    "    q = y_probs[y_true==0]\n",
    "    \n",
    "    aux = []\n",
    "    for pp in p:\n",
    "        for qq in q:\n",
    "             aux.append(sigma_eps(pp-qq, eps=eps))\n",
    "    \n",
    "    u = np.array(aux).mean()\n",
    "    return u\n",
    "\n",
    "_ = reg_u_statistic(np.array([1,1,0]), np.array([1.0,1.0,0.0]))"
   ]
  },
  {
   "cell_type": "code",
   "execution_count": 22,
   "id": "9b3278ca",
   "metadata": {},
   "outputs": [],
   "source": [
    "y_probs = base.predict_proba(X_test)[:,1]"
   ]
  },
  {
   "cell_type": "code",
   "execution_count": 36,
   "id": "13a20674",
   "metadata": {},
   "outputs": [
    {
     "data": {
      "image/png": "[encoded data removed]",
      "text/plain": [
       "<Figure size 840x420 with 1 Axes>"
      ]
     },
     "metadata": {},
     "output_type": "display_data"
    }
   ],
   "source": [
    "eps_list = sorted([0.1, 0.7, 0.5, 0.3, 0.09, 0.05, 0.04, 0.03, 0.02, 0.01, 0.009, 0.007, 0.005, 0.001])\n",
    "reg_auc_list = [reg_u_statistic(y_test, y_probs, eps)  for eps in eps_list]    \n",
    "\n",
    "plt.plot(eps_list, reg_auc_list, marker='o', label='rAUC($\\epsilon$)')\n",
    "plt.axhline(roc_auc_score(y_test, y_probs), linestyle='--', color='orange', label='Real AUC')\n",
    "plt.xscale('log')\n",
    "plt.xlabel('$\\epsilon$')\n",
    "plt.title(\"rAUC values for different kernel sizes $\\epsilon$\")\n",
    "plt.legend()\n",
    "plt.show()"
   ]
  },
  {
   "cell_type": "markdown",
   "id": "54b45c78",
   "metadata": {},
   "source": [
    "See how for $\\varepsilon \\sim 0.01$ we essentially calculate the same thing, as expected."
   ]
  },
  {
   "cell_type": "markdown",
   "id": "3c842c5e",
   "metadata": {},
   "source": [
    "### Implement gradient ascent on rAUC"
   ]
  },
  {
   "cell_type": "markdown",
   "id": "a587f6f6",
   "metadata": {},
   "source": [
    "For any model outputting a probabilistic output $p_\\theta(x)$, we can write the gradient of the regularized AUC as\n",
    "\n",
    "$$\\frac{\\partial}{\\partial \\theta} \\mathrm{rAUC} = \\mathbf E \\left[ \\frac{\\partial}{\\partial \\theta} \\sigma_\\varepsilon(p_\\theta(X) - p_\\theta(X')) \\left| \\atop \\right.  Y=1, Y'=0 \\right]$$"
   ]
  },
  {
   "cell_type": "markdown",
   "id": "a58da320",
   "metadata": {},
   "source": [
    "Now we can use that the sigmoid has a simple derivative,\n",
    "\n",
    "$$\\sigma'(x) = \\sigma(x)(1-\\sigma(x))$$"
   ]
  },
  {
   "cell_type": "markdown",
   "id": "6cc8dc73",
   "metadata": {},
   "source": [
    "to write this as"
   ]
  },
  {
   "cell_type": "markdown",
   "id": "697381c8",
   "metadata": {},
   "source": [
    "$$\\frac{\\partial}{\\partial \\theta} \\mathrm{rAUC} = \\mathbf E \\left[\\sigma_\\varepsilon(p_\\theta(X) - p_\\theta(X'))[1 - \\sigma_\\varepsilon(p_\\theta(X) - p_\\theta(X'))] \\frac{1}{\\varepsilon} \\frac{\\partial}{\\partial \\theta} (p_\\theta(X) - p_\\theta(X'))  \\left| \\atop \\right.  Y=1, Y'=0 \\right]$$"
   ]
  },
  {
   "cell_type": "markdown",
   "id": "d24366c9",
   "metadata": {},
   "source": [
    "To reduce clutter, call\n",
    "\n",
    "$$\\begin{align*}\n",
    "\\Delta p_\\theta(X, X') &\\equiv p_\\theta(X) - p_\\theta(X')\\\\\n",
    "\\Delta p'_\\theta(X, X')& \\equiv \\frac{\\partial}{\\partial \\theta} (p_\\theta(X) - p_\\theta(X'))\n",
    "\\end{align*}$$"
   ]
  },
  {
   "cell_type": "markdown",
   "id": "e52695b8",
   "metadata": {},
   "source": [
    "whence\n",
    "\n",
    "$$\\frac{\\partial}{\\partial \\theta} \\mathrm{rAUC} = \\frac{1}{\\varepsilon}\\mathbf E \\left[\\sigma_\\varepsilon(\\Delta p_\\theta(X, X'))[1 - \\sigma_\\varepsilon(\\Delta p_\\theta(X, X'))] \\Delta p'_\\theta(X, X') \\left| \\atop \\right.  Y=1, Y'=0 \\right]\\qquad (5)$$"
   ]
  },
  {
   "cell_type": "markdown",
   "id": "a3c4b287",
   "metadata": {},
   "source": [
    "Now, let us approximate $\\mathbf E[\\cdot]$ by an average over pairs $(i,j)$. We will use a Monte-Carlo approximation - our experience shows it is *much* faster than iterating over the whole set of pairs - so\n",
    "\n",
    "$$\\boxed{\\frac{\\partial}{\\partial \\theta} \\widehat{\\mathrm{rAUC}}= \\frac{1}{\\varepsilon N} \\sum_{(i,j)} \\sigma_\\varepsilon(\\Delta p_\\theta(x_i, x_j))[1 - \\sigma_\\varepsilon(\\Delta p_\\theta(x_i, x_j))] \\Delta p'_\\theta(x_i, x_j) }$$"
   ]
  },
  {
   "cell_type": "markdown",
   "id": "eca860d6",
   "metadata": {},
   "source": [
    "and the gradient ascent equation becomes\n",
    "\n",
    "$$\\theta_{n+1} = \\theta_n + \\eta \\left.\\frac{\\partial}{\\partial \\theta} \\widehat{\\mathrm{rAUC}} \\right|_{\\theta=\\theta_n}$$"
   ]
  },
  {
   "cell_type": "markdown",
   "id": "4d6b401a",
   "metadata": {},
   "source": [
    "$$\\boxed{\\theta_{n+1} = \\theta_n + \\frac{\\eta}{\\varepsilon N} \\sum_{(i,j)} \\sigma_\\varepsilon(\\Delta p_{\\theta_n}(x_i, x_j))[1 - \\sigma_\\varepsilon(\\Delta p_{\\theta_n}(x_i, x_j))] \\Delta p'_{\\theta_n}(x_i, x_j)}$$"
   ]
  },
  {
   "cell_type": "markdown",
   "id": "6af51448",
   "metadata": {},
   "source": [
    "Notice that, since we are using $N$ samples to calculate the gradient, this is a **stochastic gradient ascent** algorithm."
   ]
  },
  {
   "cell_type": "markdown",
   "id": "cfe3d285",
   "metadata": {},
   "source": [
    "**Logistic regression case**: in a logistic regression where\n",
    "\n",
    "$$p_\\theta(x) = \\frac{1}{1 + e^{-\\theta_0 - \\theta \\cdot x}}$$"
   ]
  },
  {
   "cell_type": "markdown",
   "id": "1fc4bc74",
   "metadata": {},
   "source": [
    "we see that \n",
    "\n",
    "$$p_\\theta(x) \\geq p_\\theta(x') \\iff \\theta \\cdot x \\leq \\theta \\cdot x'$$"
   ]
  },
  {
   "cell_type": "markdown",
   "id": "d4b124a4",
   "metadata": {},
   "source": [
    "All that matters, then, is that $\\theta \\cdot (x'-x) \\geq 0$; formally we may substitute the $\\Delta p_\\theta$ terms above (and get a minus sign outside from the derivative) by this, to obtain "
   ]
  },
  {
   "cell_type": "markdown",
   "id": "9d67a710",
   "metadata": {},
   "source": [
    "$$\\boxed{\\theta_{n+1} = \\theta_n - \\frac{\\eta}{\\varepsilon N } \\sum_{(i,j)} \\sigma_\\varepsilon(\\theta_n \\cdot (x_j-x_i))[1 - \\sigma_\\varepsilon(\\theta_n \\cdot (x_j-x_i))] (x_j - x_i) } \\quad \\mbox{(logistic regression)}$$"
   ]
  },
  {
   "cell_type": "markdown",
   "id": "81811c3a",
   "metadata": {},
   "source": [
    "> *Important*: since only the *difference* between scores matters, the $\\theta_0$ bias term is *indefinite* - it cannot be determined by this procedure alone. This makes sense - it does not contribute to the overall difference between scores, only to absolute score values, and would indeed be penalized in absolute losses such as cross entropy."
   ]
  },
  {
   "cell_type": "markdown",
   "id": "1470e4b0",
   "metadata": {},
   "source": [
    "### Stochastic Gradient Ascent: numerical calculation"
   ]
  },
  {
   "cell_type": "markdown",
   "id": "9e8641f8",
   "metadata": {},
   "source": [
    "First, we separate both classes:"
   ]
  },
  {
   "cell_type": "code",
   "execution_count": 24,
   "id": "170973fa",
   "metadata": {},
   "outputs": [],
   "source": [
    "X1 = X_train[y_train==1]\n",
    "X0 = X_train[y_train==0]"
   ]
  },
  {
   "cell_type": "code",
   "execution_count": 30,
   "id": "6fdd1953",
   "metadata": {},
   "outputs": [],
   "source": [
    "@jit(nopython=True)\n",
    "def stochastic_gradient(theta, X1, X0, N=1000, eps=0.01, random_state=1):\n",
    "\n",
    "    np.random.seed(random_state)\n",
    "    \n",
    "    indices_1 = np.random.choice(np.arange(X1.shape[0]), size=N)\n",
    "    indices_0 = np.random.choice(np.arange(X0.shape[0]), size=N)\n",
    "    \n",
    "    X1_, X0_ = X1[indices_1], X0[indices_0]\n",
    "    \n",
    "    avg = np.zeros_like(theta)    \n",
    "    for xi, xj in zip(X1_, X0_):\n",
    "        dx = xj - xi\n",
    "        sig = sigma_eps(theta @ dx, eps=eps)\n",
    "        avg = avg + sig * (1-sig) *dx\n",
    "\n",
    "    return avg / (N * eps)"
   ]
  },
  {
   "cell_type": "markdown",
   "id": "75d15954",
   "metadata": {},
   "source": [
    "Our hyperparameters:\n",
    "* 900 epochs;\n",
    "* An initial learning rate of $\\eta_0 = 0.5$;\n",
    "* A learning rate scheduler\n",
    "  \n",
    "  $$\\eta_{n+1} = \\frac{\\eta_n}{1+\\gamma}$$"
   ]
  },
  {
   "cell_type": "markdown",
   "id": "c8cd416a",
   "metadata": {},
   "source": [
    "  for $\\gamma = 10^{-4}$ as a discount factor."
   ]
  },
  {
   "cell_type": "code",
   "execution_count": 27,
   "id": "49a9efd3",
   "metadata": {},
   "outputs": [],
   "source": [
    "epochs = 900\n",
    "lr = 0.5\n",
    "n_mc = 500\n",
    "\n",
    "gamma = 0.0001\n",
    "\n",
    "np.random.seed(123)"
   ]
  },
  {
   "cell_type": "markdown",
   "id": "ec3d64e6",
   "metadata": {},
   "source": [
    "Randomly initialize $\\theta$:"
   ]
  },
  {
   "cell_type": "code",
   "execution_count": 28,
   "id": "88bb0474",
   "metadata": {},
   "outputs": [],
   "source": [
    "theta = np.random.randn(X_train[0].shape[0])"
   ]
  },
  {
   "cell_type": "code",
   "execution_count": 31,
   "id": "171f9ef5",
   "metadata": {},
   "outputs": [
    {
     "data": {
      "application/vnd.jupyter.widget-view+json": {
       "model_id": "60783ab996bd4da49ffe76b796e2b579",
       "version_major": 2,
       "version_minor": 0
      },
      "text/plain": [
       "  0%|          | 0/900 [00:00<?, ?it/s]"
      ]
     },
     "metadata": {},
     "output_type": "display_data"
    }
   ],
   "source": [
    "aucs_list = []\n",
    "test_aucs_list = []\n",
    "epochs_list = list(range(epochs))\n",
    "for seed, epoch in enumerate(tqdm(epochs_list)):\n",
    "    \n",
    "    # learning rate scheduler\n",
    "    lr = lr / (1+gamma)\n",
    "    \n",
    "    theta = theta - lr * stochastic_gradient(theta, X1, X0, N=n_mc, random_state=seed)\n",
    "    aucs_list.append(roc_auc_score(y_train, theta @ X_train.T))\n",
    "    test_aucs_list.append(roc_auc_score(y_test, theta @ X_test.T))"
   ]
  },
  {
   "cell_type": "code",
   "execution_count": 37,
   "id": "b1a5e547",
   "metadata": {},
   "outputs": [
    {
     "data": {
      "image/png": "[encoded data removed]",
      "text/plain": [
       "<Figure size 840x420 with 1 Axes>"
      ]
     },
     "metadata": {},
     "output_type": "display_data"
    }
   ],
   "source": [
    "plt.plot(epochs_list, aucs_list, label='Train')\n",
    "plt.plot(epochs_list, test_aucs_list, label='Test')\n",
    "plt.title(f'Train AUC = {round(np.max(aucs_list),3)}, Test AUC = {round(np.max(test_aucs_list),3)}')\n",
    "plt.xlabel(\"Epoch\")\n",
    "plt.ylabel(\"AUC\")\n",
    "plt.legend()\n",
    "plt.show()"
   ]
  },
  {
   "cell_type": "markdown",
   "id": "b3988e89",
   "metadata": {},
   "source": [
    "It works! We have explicitly trained a logistic regression model to maximize ROC AUC."
   ]
  },
  {
   "cell_type": "markdown",
   "id": "a189bb2c",
   "metadata": {},
   "source": [
    "## Conclusion"
   ]
  },
  {
   "cell_type": "markdown",
   "id": "d6adfdef",
   "metadata": {},
   "source": [
    "It is definitely possible to explicitly use ROC AUC as a loss function - albeit slightly regularized. For this toy example here, the approach didn't give a result too different from the one obtained by simply minimizing cross-entropy; however, it would be interesting to see:\n",
    "* How we can go beyond logistic regression - dense neural networks seem like a natural candidate, although it would be nice to somehow implement this on tree-based models;\n",
    "* In what cases it would provide very different results from other losses (surrogate or not);\n",
    "* Since we use stochastic gradients, any other method such as Adam or RMSProp should be usable instead - it would be interesting to check how that changes our training results."
   ]
  },
  {
   "cell_type": "markdown",
   "id": "ce737217",
   "metadata": {},
   "source": [
    "## Appendix"
   ]
  },
  {
   "cell_type": "markdown",
   "id": "2a7c6fc2",
   "metadata": {},
   "source": [
    "(This section assumes familiarity with the theory of [distributions](https://en.wikipedia.org/wiki/Distribution_(mathematics)))"
   ]
  },
  {
   "cell_type": "markdown",
   "id": "8fc9f962",
   "metadata": {},
   "source": [
    "The Heaviside function $x \\mapsto 1_{x\\geq 0}$ can be interpreted as a distribution; physicists are used to this interpretation, where Dirac delta functions pop up from the derivatives of discontinuous functions. \n",
    "\n",
    "We can then, in the sense of distributions, differentiate it."
   ]
  },
  {
   "cell_type": "markdown",
   "id": "054c0c53",
   "metadata": {},
   "source": [
    "Explicitly: assume we want to differentiate the function $g: \\mathbf R^n \\to \\mathbf R$ given by\n",
    "\n",
    "$$g(x) = 1_{f(x) \\geq 0}$$"
   ]
  },
  {
   "cell_type": "markdown",
   "id": "8493746a",
   "metadata": {},
   "source": [
    "where $f$ is a $C^\\infty$ function. Let $\\Omega = \\{x: f(x) \\geq 0\\}$, so we can equivalently write $g$ as $1_\\Omega$. Further let $\\varphi$ be a test function. By definition of the derivative of a distribution,\n",
    "\n",
    "$$\\langle \\nabla 1_\\Omega, \\varphi\\rangle = - \\langle  1_\\Omega, \\nabla\\varphi\\rangle = - \\int_\\Omega \\nabla \\varphi \\, dV$$"
   ]
  },
  {
   "cell_type": "markdown",
   "id": "bec85e4e",
   "metadata": {},
   "source": [
    "where $dV$ is the volume element in $\\mathbf R^n$."
   ]
  },
  {
   "cell_type": "markdown",
   "id": "074351bc",
   "metadata": {},
   "source": [
    "Now, Gauss's theorem for gradients yields\n",
    "\n",
    "$$\\int_\\Omega \\nabla \\varphi \\, dV = \\oint_{\\partial \\Omega} \\varphi \\hat n \\, dS$$"
   ]
  },
  {
   "cell_type": "markdown",
   "id": "9f5e3185",
   "metadata": {},
   "source": [
    "where $\\hat n$ is the outward normal vector to the boundary of $\\Omega$. Hence,\n",
    "\n",
    "$$\\langle \\nabla 1_\\Omega, \\varphi\\rangle = - \\oint_{\\partial \\Omega} \\varphi \\hat n\\; dS = \\langle -\\hat n \\;\\mathrm{d}\\Sigma, \\varphi \\rangle$$"
   ]
  },
  {
   "cell_type": "markdown",
   "id": "195e7ffb",
   "metadata": {},
   "source": [
    "with $\\mathrm{d}\\Sigma$ being the area form on $\\partial \\Omega$: it is the distribution that, integrated over the whole surface, yields its area. It is given by\n",
    "\n",
    "$$\\langle \\mathrm{d}\\Sigma, \\varphi \\rangle = \\int_{\\partial \\Omega} \\varphi \\; dS.$$\n",
    "\n"
   ]
  },
  {
   "cell_type": "markdown",
   "id": "da3f8ae8",
   "metadata": {},
   "source": [
    "Hence, we have\n",
    "\n",
    "$$\\nabla 1_\\Omega = - \\hat n \\,\\mathrm{d}\\Sigma.$$"
   ]
  },
  {
   "cell_type": "markdown",
   "id": "bdf63cfc",
   "metadata": {},
   "source": [
    "We can develop it further. The boundary $\\partial \\Omega$ is the locus of $f(x) = 0$; one can show that, schematically, \n",
    "\n",
    "$$\\mathrm{d}\\Sigma = \\delta(f(x))$$"
   ]
  },
  {
   "cell_type": "markdown",
   "id": "92883827",
   "metadata": {},
   "source": [
    "where $\\delta$ is the Dirac delta distribution."
   ]
  },
  {
   "cell_type": "markdown",
   "id": "dc8637f3",
   "metadata": {},
   "source": [
    "> A nice example of this formula is, in spherical coordinates in $\\mathbf R^3$, showing that integrating $\\delta(r-R)$ yields the correct area for a sphere of radius $R$."
   ]
  },
  {
   "cell_type": "markdown",
   "id": "e922397c",
   "metadata": {},
   "source": [
    "We conclude that\n",
    "\n",
    "$$\\boxed{\\nabla 1_{f(x) \\geq 0} = - \\hat n \\; \\delta(f(x))}$$"
   ]
  },
  {
   "cell_type": "markdown",
   "id": "28975966",
   "metadata": {},
   "source": [
    "Consider our case, where we want to calculate \n",
    "\n",
    "$$\\frac{\\partial} {\\partial \\theta} 1_{f(\\theta)}$$"
   ]
  },
  {
   "cell_type": "markdown",
   "id": "63c3139e",
   "metadata": {},
   "source": [
    "where $f(\\theta) = p_\\theta(X) - p_\\theta(X') = \\Delta p_\\theta(X, X')$; we have "
   ]
  },
  {
   "cell_type": "markdown",
   "id": "a89666bd",
   "metadata": {},
   "source": [
    "$$\\frac{\\partial} {\\partial \\theta} 1_{p_\\theta(X) - p_\\theta(X')} = - \\hat n \\; \\delta(\\Delta p_\\theta(X, X'));$$"
   ]
  },
  {
   "cell_type": "markdown",
   "id": "afeed04f",
   "metadata": {},
   "source": [
    "now, $\\hat n$ must be a normal vector to the surface with locus $p_\\theta(X) = p_\\theta(X')$; then it must be proportional to the gradient,\n",
    "\n",
    "$$\\hat n \\propto \\frac{\\partial} {\\partial \\theta} \\Delta p_\\theta(X, X') = \\Delta p_\\theta'(X,X')$$"
   ]
  },
  {
   "cell_type": "markdown",
   "id": "a214e93c",
   "metadata": {},
   "source": [
    "so\n",
    "\n",
    "$$\\frac{\\partial} {\\partial \\theta} 1_{p_\\theta(X) - p_\\theta(X')} \\propto \\delta(\\Delta p_\\theta(X, X'))\\Delta p_\\theta'(X,X').\\qquad (*)$$"
   ]
  },
  {
   "cell_type": "markdown",
   "id": "3d248207",
   "metadata": {},
   "source": [
    "This result is exact and final; however, it cannot be implemented directly due to the presence of the delta function. \n",
    "\n",
    "One can use [approximations of the identity](https://en.wikipedia.org/wiki/Dirac_delta_function#Representations_of_the_delta_function:~:text=Dirac%20delta%20function-,Representations%20of%20the%20delta%20function,-Approximations%20to%20the) to approximate the delta function: \n",
    "\n",
    "Let $\\eta(x)$ be a real function which integrates to 1. Then, the family of functions \n",
    "\n",
    "$$\\eta_\\varepsilon(x) = \\frac{1}{\\varepsilon} \\eta \\left( \\frac{x}{\\varepsilon}\\right)$$"
   ]
  },
  {
   "cell_type": "markdown",
   "id": "71dd69ac",
   "metadata": {},
   "source": [
    "converges in the distribution sense to delta as $\\varepsilon$ goes to 0."
   ]
  },
  {
   "cell_type": "markdown",
   "id": "0b0c2dd8",
   "metadata": {},
   "source": [
    "If we choose\n",
    "\n",
    "$$\\eta(x) = \\sigma(x)(1-\\sigma(x)) = \\frac{d}{dx} \\sigma(x)$$\n",
    "\n",
    "with $\\sigma(x)$ being the standard sigmoid function, then we see that the family\n",
    "\n",
    "$$\\eta_\\varepsilon(x) = \\frac{1}{\\varepsilon} \\sigma_\\varepsilon(x) (1 - \\sigma_\\varepsilon(x))$$\n",
    "\n",
    "approximates the delta function: see below"
   ]
  },
  {
   "cell_type": "code",
   "execution_count": 13,
   "id": "fc5ae676",
   "metadata": {},
   "outputs": [
    {
     "data": {
      "image/png": "[encoded data removed]",
      "text/plain": [
       "<Figure size 840x420 with 1 Axes>"
      ]
     },
     "metadata": {
      "needs_background": "light"
     },
     "output_type": "display_data"
    }
   ],
   "source": [
    "x = np.linspace(-0.01,0.01,10000)\n",
    "for eps in [1.0, 0.1, 0.001]:\n",
    "    y = sigma_eps(x, eps)\n",
    "    plt.plot(x, y*(1-y)/eps, label=f'eps={eps}')\n",
    "plt.yscale('log')\n",
    "plt.legend()\n",
    "plt.show()"
   ]
  },
  {
   "cell_type": "markdown",
   "id": "3bca0211",
   "metadata": {},
   "source": [
    "plugging it back in $(*)$ we get\n",
    "\n",
    "$$\\frac{\\partial} {\\partial \\theta} 1_{p_\\theta(X) - p_\\theta(X')} \\approx \\frac{1}{\\varepsilon} \\sigma_\\varepsilon(\\Delta p_\\theta(X, X')) (1 - \\sigma_\\varepsilon(\\Delta p_\\theta(X, X')))\\Delta p_\\theta'(X, X')$$"
   ]
  },
  {
   "cell_type": "markdown",
   "id": "58b7bdc0",
   "metadata": {},
   "source": [
    "which is exactly what we have in Eq. (5). Hence, our two approaches are equivalent."
   ]
  }
 ],
 "metadata": {
  "kernelspec": {
   "display_name": "Python 3",
   "language": "python",
   "name": "python3"
  },
  "language_info": {
   "codemirror_mode": {
    "name": "ipython",
    "version": 3
   },
   "file_extension": ".py",
   "mimetype": "text/x-python",
   "name": "python",
   "nbconvert_exporter": "python",
   "pygments_lexer": "ipython3",
   "version": "3.7.9"
  },
  "toc": {
   "base_numbering": 1,
   "nav_menu": {},
   "number_sections": true,
   "sideBar": true,
   "skip_h1_title": false,
   "title_cell": "Table of Contents",
   "title_sidebar": "Contents",
   "toc_cell": false,
   "toc_position": {},
   "toc_section_display": true,
   "toc_window_display": false
  }
 },
 "nbformat": 4,
 "nbformat_minor": 5
}
